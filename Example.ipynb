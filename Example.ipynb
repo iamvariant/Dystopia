{
 "cells": [
  {
   "cell_type": "code",
   "execution_count": 1,
   "metadata": {},
   "outputs": [
    {
     "name": "stderr",
     "output_type": "stream",
     "text": [
      "/Users/matthewtham/opt/anaconda3/envs/IDEX/lib/python3.7/site-packages/tensorflow/python/framework/dtypes.py:526: FutureWarning: Passing (type, 1) or '1type' as a synonym of type is deprecated; in a future version of numpy, it will be understood as (type, (1,)) / '(1,)type'.\n",
      "  _np_qint8 = np.dtype([(\"qint8\", np.int8, 1)])\n",
      "/Users/matthewtham/opt/anaconda3/envs/IDEX/lib/python3.7/site-packages/tensorflow/python/framework/dtypes.py:527: FutureWarning: Passing (type, 1) or '1type' as a synonym of type is deprecated; in a future version of numpy, it will be understood as (type, (1,)) / '(1,)type'.\n",
      "  _np_quint8 = np.dtype([(\"quint8\", np.uint8, 1)])\n",
      "/Users/matthewtham/opt/anaconda3/envs/IDEX/lib/python3.7/site-packages/tensorflow/python/framework/dtypes.py:528: FutureWarning: Passing (type, 1) or '1type' as a synonym of type is deprecated; in a future version of numpy, it will be understood as (type, (1,)) / '(1,)type'.\n",
      "  _np_qint16 = np.dtype([(\"qint16\", np.int16, 1)])\n",
      "/Users/matthewtham/opt/anaconda3/envs/IDEX/lib/python3.7/site-packages/tensorflow/python/framework/dtypes.py:529: FutureWarning: Passing (type, 1) or '1type' as a synonym of type is deprecated; in a future version of numpy, it will be understood as (type, (1,)) / '(1,)type'.\n",
      "  _np_quint16 = np.dtype([(\"quint16\", np.uint16, 1)])\n",
      "/Users/matthewtham/opt/anaconda3/envs/IDEX/lib/python3.7/site-packages/tensorflow/python/framework/dtypes.py:530: FutureWarning: Passing (type, 1) or '1type' as a synonym of type is deprecated; in a future version of numpy, it will be understood as (type, (1,)) / '(1,)type'.\n",
      "  _np_qint32 = np.dtype([(\"qint32\", np.int32, 1)])\n",
      "/Users/matthewtham/opt/anaconda3/envs/IDEX/lib/python3.7/site-packages/tensorflow/python/framework/dtypes.py:535: FutureWarning: Passing (type, 1) or '1type' as a synonym of type is deprecated; in a future version of numpy, it will be understood as (type, (1,)) / '(1,)type'.\n",
      "  np_resource = np.dtype([(\"resource\", np.ubyte, 1)])\n"
     ]
    },
    {
     "name": "stdout",
     "output_type": "stream",
     "text": [
      "\n",
      "WARNING: The TensorFlow contrib module will not be included in TensorFlow 2.0.\n",
      "For more information, please see:\n",
      "  * https://github.com/tensorflow/community/blob/master/rfcs/20180907-contrib-sunset.md\n",
      "  * https://github.com/tensorflow/addons\n",
      "If you depend on functionality not listed there, please file an issue.\n",
      "\n",
      "WARNING:tensorflow:From /Users/matthewtham/opt/anaconda3/envs/IDEX/lib/python3.7/site-packages/tensorflow/python/framework/op_def_library.py:263: colocate_with (from tensorflow.python.framework.ops) is deprecated and will be removed in a future version.\n",
      "Instructions for updating:\n",
      "Colocations handled automatically by placer.\n",
      "WARNING:tensorflow:From /Users/matthewtham/opt/anaconda3/envs/IDEX/lib/python3.7/site-packages/tensorflow/python/training/saver.py:1266: checkpoint_exists (from tensorflow.python.training.checkpoint_management) is deprecated and will be removed in a future version.\n",
      "Instructions for updating:\n",
      "Use standard file APIs to check for files with this prefix.\n",
      "INFO:tensorflow:Restoring parameters from ./tiny_model/MobileFaceNet_epoch_4_iter_16000.ckpt\n"
     ]
    }
   ],
   "source": [
    "import backend\n",
    "from backend import preprocess_image, extract_faces, add_face, remove_face, identify_face, identify_all, facedetect"
   ]
  },
  {
   "cell_type": "code",
   "execution_count": 2,
   "metadata": {},
   "outputs": [],
   "source": [
    "# Load in all images manually with preprocess_image\n",
    "img1 = preprocess_image('Example/keane.jpg')\n",
    "img2 = preprocess_image('Example/preet.jpg')\n",
    "img3 = preprocess_image('Example/shaun.jpg')\n",
    "img4 = preprocess_image('Example/tham.jpg')\n",
    "\n",
    "test = preprocess_image('Example/test.jpg')\n"
   ]
  },
  {
   "cell_type": "code",
   "execution_count": 3,
   "metadata": {},
   "outputs": [],
   "source": [
    "test_faces = extract_faces(test)"
   ]
  },
  {
   "cell_type": "code",
   "execution_count": 4,
   "metadata": {},
   "outputs": [],
   "source": [
    "# Extract faces from loaded images with extract_faces\n",
    "keane = [extract_faces(img1)]\n",
    "preet = [extract_faces(img2)]\n",
    "shaun = [extract_faces(img3)]\n",
    "tham = [extract_faces(img4)]"
   ]
  },
  {
   "cell_type": "code",
   "execution_count": 5,
   "metadata": {},
   "outputs": [
    {
     "name": "stdout",
     "output_type": "stream",
     "text": [
      "(1, 128)\n",
      "(2, 128)\n",
      "(3, 128)\n",
      "(4, 128)\n"
     ]
    }
   ],
   "source": [
    "# Build library with add_face\n",
    "\n",
    "## First call should have no 'library' argument to instantiate blank library\n",
    "library = backend.add_person(keane, 'keane')\n",
    "print(library[0].shape)\n",
    "library = backend.add_person(preet, 'preet', library)\n",
    "print(library[0].shape)\n",
    "library = backend.add_person(shaun, 'shaun', library)\n",
    "print(library[0].shape)\n",
    "library = backend.add_person(tham, 'tham', library)\n",
    "print(library[0].shape)"
   ]
  },
  {
   "cell_type": "code",
   "execution_count": null,
   "metadata": {},
   "outputs": [],
   "source": [
    "print(library[1])"
   ]
  },
  {
   "cell_type": "code",
   "execution_count": 6,
   "metadata": {},
   "outputs": [
    {
     "data": {
      "text/plain": [
       "<Figure size 640x480 with 1 Axes>"
      ]
     },
     "metadata": {},
     "output_type": "display_data"
    },
    {
     "name": "stdout",
     "output_type": "stream",
     "text": [
      "['Unknown']\n"
     ]
    },
    {
     "data": {
      "text/plain": [
       "<Figure size 640x480 with 1 Axes>"
      ]
     },
     "metadata": {},
     "output_type": "display_data"
    },
    {
     "name": "stdout",
     "output_type": "stream",
     "text": [
      "['tham']\n"
     ]
    },
    {
     "data": {
      "text/plain": [
       "<Figure size 640x480 with 1 Axes>"
      ]
     },
     "metadata": {},
     "output_type": "display_data"
    },
    {
     "name": "stdout",
     "output_type": "stream",
     "text": [
      "['Unknown']\n"
     ]
    },
    {
     "data": {
      "text/plain": [
       "<Figure size 640x480 with 1 Axes>"
      ]
     },
     "metadata": {},
     "output_type": "display_data"
    },
    {
     "name": "stdout",
     "output_type": "stream",
     "text": [
      "['Unknown']\n",
      "[['Unknown'], array(['tham'], dtype='<U32'), ['Unknown'], ['Unknown']]\n"
     ]
    },
    {
     "data": {
      "text/plain": [
       "<Figure size 640x480 with 1 Axes>"
      ]
     },
     "metadata": {},
     "output_type": "display_data"
    }
   ],
   "source": [
    "import matplotlib.pyplot as plt\n",
    "import matplotlib.patches as patches\n",
    "import numpy as np\n",
    "import cv2\n",
    "\n",
    "threshold = 0.5\n",
    "\n",
    "test_faces = extract_faces(test)\n",
    "\n",
    "plt.imshow(test_faces[0].astype(np.uint8))\n",
    "plt.show()\n",
    "\n",
    "identity = identify_face(test_faces[0], library, threshold=threshold)\n",
    "print(identity)\n",
    "\n",
    "plt.imshow(test_faces[1].astype(np.uint8))\n",
    "plt.show()\n",
    "\n",
    "identity = identify_face(test_faces[1], library, threshold=threshold)\n",
    "print(identity)\n",
    "\n",
    "plt.imshow(test_faces[2].astype(np.uint8))\n",
    "plt.show()\n",
    "\n",
    "identity = identify_face(test_faces[2], library, threshold=threshold)\n",
    "print(identity)\n",
    "\n",
    "plt.imshow(test_faces[3].astype(np.uint8))\n",
    "plt.show()\n",
    "\n",
    "identity = identify_face(test_faces[3], library, threshold=threshold)\n",
    "print(identity)\n",
    "\n",
    "identification = identify_all(test, library, threshold=threshold)\n",
    "print(identification)\n",
    "\n",
    "test_copy = np.copy(test)\n",
    "\n",
    "boxes, scores = facedetect(test_copy)\n",
    "boxes = boxes.astype(int)\n",
    "\n",
    "count=0\n",
    "for i in boxes:\n",
    "    y1, x1, y2, x2 = i\n",
    "    cv2.rectangle(test_copy, (x1, y2), (x2, y1), (0, 255, 0), 10)\n",
    "    cv2.putText(test_copy, identification[count][0], (x1, y1), cv2.FONT_HERSHEY_SIMPLEX, 3, (0, 255, 0), 5)\n",
    "    count = count+1\n",
    "\n",
    "plt.imshow(test_copy.astype(np.uint8))\n",
    "plt.show()\n",
    "\n"
   ]
  },
  {
   "cell_type": "code",
   "execution_count": null,
   "metadata": {},
   "outputs": [],
   "source": [
    "import os\n",
    "keane = []\n",
    "for filename in os.listdir(\"keane\"):\n",
    "    url = os.path.join(\"keane\", filename)\n",
    "    image = preprocess_image(url)\n",
    "    face = extract_faces(image)\n",
    "    keane.append(face)\n",
    "preet = []\n",
    "for filename in os.listdir(\"harpreet\"):\n",
    "    url = os.path.join(\"harpreet\", filename)\n",
    "    image = preprocess_image(url)\n",
    "    face = extract_faces(image)\n",
    "    preet.append(face)"
   ]
  },
  {
   "cell_type": "code",
   "execution_count": 15,
   "metadata": {},
   "outputs": [],
   "source": [
    "# Imports\n",
    "import sys\n",
    "import time\n",
    "import os\n",
    "\n",
    "import numpy as np\n",
    "import cv2\n",
    "import pickle\n",
    "\n",
    "from sklearn.preprocessing import Normalizer, LabelEncoder\n",
    "from sklearn.svm import SVC\n",
    "\n",
    "from numpy import savez_compressed\n",
    "\n",
    "import pickle\n",
    "\n",
    "import tensorflow as tf"
   ]
  },
  {
   "cell_type": "code",
   "execution_count": null,
   "metadata": {},
   "outputs": [],
   "source": [
    "def remove_face(label, library=None):\n",
    "  if library is None:\n",
    "    return\n",
    "  else:\n",
    "    face_library = library[0]\n",
    "    label_library = library[1]\n",
    "    out_encoder = LabelEncoder()\n",
    "    out_encoder.classes_ = library[2]\n",
    "    svm = library[3]\n",
    "  \n",
    "  index = np.where(label_library==label)\n",
    "  new_face_library = np.delete(face_library, index, axis=0)\n",
    "  new_label_library = np.delete(label_library, index, axis=0)\n",
    "  out_encoder.fit(new_label_library)\n",
    "  new_library = list([new_face_library, new_label_library, out_encoder.classes_, svm])\n",
    "  return new_library"
   ]
  },
  {
   "cell_type": "code",
   "execution_count": null,
   "metadata": {},
   "outputs": [],
   "source": [
    "library = remove_face(\"keane\", library)"
   ]
  },
  {
   "cell_type": "code",
   "execution_count": null,
   "metadata": {},
   "outputs": [],
   "source": [
    "label = out_encoder.transform([label])\n",
    "index = np.where(label_library==label)\n",
    "new_face_library = np.delete(face_library, index, axis=0)\n",
    "new_label_library = np.delete(out_encoder.classes_, index, axis=0)\n",
    "out_encoder.fit(new_label_library)\n",
    "new_label_library = out_encoder.transform(new_label_library)\n",
    "new_library = list([new_face_library, new_label_library, out_encoder.classes_, svm])\n",
    "return new_library"
   ]
  },
  {
   "cell_type": "code",
   "execution_count": null,
   "metadata": {},
   "outputs": [],
   "source": [
    "library[1]"
   ]
  },
  {
   "cell_type": "code",
   "execution_count": null,
   "metadata": {},
   "outputs": [],
   "source": [
    "label=\"keane\"\n",
    "index = np.where(label_library==label)\n",
    "print(index)\n",
    "print(face_library.shape)\n",
    "new_face_library = np.delete(face_library, index, axis=0)\n",
    "print(new_face_library.shape)\n",
    "print(label_library)\n",
    "new_label_library = np.delete(label_library, index)\n",
    "print(new_label_library)\n"
   ]
  },
  {
   "cell_type": "code",
   "execution_count": null,
   "metadata": {},
   "outputs": [],
   "source": [
    "np.delete(label_library, 1)"
   ]
  },
  {
   "cell_type": "code",
   "execution_count": 9,
   "metadata": {},
   "outputs": [],
   "source": [
    "face_library = library[0]\n",
    "label_library = library[1]\n",
    "out_encoder = LabelEncoder()\n",
    "out_encoder.classes_ = library[2]\n",
    "svm = library[3]"
   ]
  },
  {
   "cell_type": "code",
   "execution_count": 13,
   "metadata": {},
   "outputs": [
    {
     "ename": "ValueError",
     "evalue": "y contains previously unseen labels: [4]",
     "output_type": "error",
     "traceback": [
      "\u001b[0;31m---------------------------------------------------------------------------\u001b[0m",
      "\u001b[0;31mValueError\u001b[0m                                Traceback (most recent call last)",
      "\u001b[0;32m<ipython-input-13-ebf7e7c9c5ea>\u001b[0m in \u001b[0;36m<module>\u001b[0;34m\u001b[0m\n\u001b[0;32m----> 1\u001b[0;31m \u001b[0mout_encoder\u001b[0m\u001b[0;34m.\u001b[0m\u001b[0minverse_transform\u001b[0m\u001b[0;34m(\u001b[0m\u001b[0;34m[\u001b[0m\u001b[0;36m4\u001b[0m\u001b[0;34m]\u001b[0m\u001b[0;34m)\u001b[0m\u001b[0;34m\u001b[0m\u001b[0;34m\u001b[0m\u001b[0m\n\u001b[0m",
      "\u001b[0;32m~/opt/anaconda3/envs/IDEX/lib/python3.7/site-packages/sklearn/preprocessing/label.py\u001b[0m in \u001b[0;36minverse_transform\u001b[0;34m(self, y)\u001b[0m\n\u001b[1;32m    279\u001b[0m         \u001b[0;32mif\u001b[0m \u001b[0mlen\u001b[0m\u001b[0;34m(\u001b[0m\u001b[0mdiff\u001b[0m\u001b[0;34m)\u001b[0m\u001b[0;34m:\u001b[0m\u001b[0;34m\u001b[0m\u001b[0;34m\u001b[0m\u001b[0m\n\u001b[1;32m    280\u001b[0m             raise ValueError(\n\u001b[0;32m--> 281\u001b[0;31m                     \"y contains previously unseen labels: %s\" % str(diff))\n\u001b[0m\u001b[1;32m    282\u001b[0m         \u001b[0my\u001b[0m \u001b[0;34m=\u001b[0m \u001b[0mnp\u001b[0m\u001b[0;34m.\u001b[0m\u001b[0masarray\u001b[0m\u001b[0;34m(\u001b[0m\u001b[0my\u001b[0m\u001b[0;34m)\u001b[0m\u001b[0;34m\u001b[0m\u001b[0;34m\u001b[0m\u001b[0m\n\u001b[1;32m    283\u001b[0m         \u001b[0;32mreturn\u001b[0m \u001b[0mself\u001b[0m\u001b[0;34m.\u001b[0m\u001b[0mclasses_\u001b[0m\u001b[0;34m[\u001b[0m\u001b[0my\u001b[0m\u001b[0;34m]\u001b[0m\u001b[0;34m\u001b[0m\u001b[0;34m\u001b[0m\u001b[0m\n",
      "\u001b[0;31mValueError\u001b[0m: y contains previously unseen labels: [4]"
     ]
    }
   ],
   "source": [
    "out_encoder.inverse_transform([4])"
   ]
  },
  {
   "cell_type": "code",
   "execution_count": null,
   "metadata": {},
   "outputs": [],
   "source": [
    "# Build library with add_face\n",
    "\n",
    "## First call should have no 'library' argument to instantiate blank library\n",
    "library = add_person(keane, 'keane')\n",
    "print(library[0].shape)\n",
    "library = add_person(preet, 'preet', library)\n",
    "print(library[0].shape)"
   ]
  },
  {
   "cell_type": "code",
   "execution_count": 16,
   "metadata": {},
   "outputs": [
    {
     "name": "stdout",
     "output_type": "stream",
     "text": [
      "SVC(C=1.0, cache_size=200, class_weight=None, coef0=0.0,\n",
      "    decision_function_shape='ovr', degree=3, gamma='auto_deprecated',\n",
      "    kernel='linear', max_iter=-1, probability=False, random_state=None,\n",
      "    shrinking=True, tol=0.001, verbose=False)\n"
     ]
    }
   ],
   "source": [
    "savez_compressed('library.npz', library[0],library[1],library[2])\n",
    "print(library[3])\n",
    "with open(\"svm.pkl\", 'wb') as file:\n",
    "    pickle.dump(library[3], file) \n"
   ]
  },
  {
   "cell_type": "code",
   "execution_count": null,
   "metadata": {},
   "outputs": [],
   "source": [
    "from numpy import savez_compressed, load"
   ]
  },
  {
   "cell_type": "code",
   "execution_count": null,
   "metadata": {},
   "outputs": [],
   "source": []
  }
 ],
 "metadata": {
  "kernelspec": {
   "display_name": "Python 3",
   "language": "python",
   "name": "python3"
  },
  "language_info": {
   "codemirror_mode": {
    "name": "ipython",
    "version": 3
   },
   "file_extension": ".py",
   "mimetype": "text/x-python",
   "name": "python",
   "nbconvert_exporter": "python",
   "pygments_lexer": "ipython3",
   "version": "3.7.6"
  }
 },
 "nbformat": 4,
 "nbformat_minor": 4
}
